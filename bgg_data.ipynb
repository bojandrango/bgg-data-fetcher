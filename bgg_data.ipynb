{
 "cells": [
  {
   "cell_type": "markdown",
   "metadata": {},
   "source": [
    "# BGG Data Fetcher\n",
    "\n",
    "This script will fetch board games data from BoardGameGeek API and store the data in a CSV file. The API response is in XML format and since there is no endpoint in order to fetch multiple board games data at once, this will work by making a request to the endpoint for a single board game based on board game(s) ID, while incrementing the ID after each request withing the given range of IDs.\n",
    "\n",
    "The information fetched and stored for each board game is the following:\n",
    "\n",
    "`name`, `game_id`, `rating`, `weight`, `year_published`, `min_players`, `max_players`, `min_play_time`, `max_pay_time`, `min_age`, `owned_by`, `categories`, `mechanics`, `designers`, `artists` and `publishers`.\n",
    "\n",
    "We start by importing the needed libraries for this script:"
   ]
  },
  {
   "cell_type": "code",
   "execution_count": 1,
   "metadata": {},
   "outputs": [],
   "source": [
    "# Import libraries\n",
    "from bs4 import BeautifulSoup\n",
    "from csv import DictWriter\n",
    "import pandas as pd\n",
    "import requests\n",
    "import time"
   ]
  },
  {
   "cell_type": "markdown",
   "metadata": {},
   "source": [
    "We'll need to define the headers for the request and the pause between each request (in seconds). An information on the requests rate limit is not available in BGG API documentation and there is some unofficial information in their forums that it is limited to 2 requests per second. The pause between requests may need to be adjusted, if the script start to hit the limit rate."
   ]
  },
  {
   "cell_type": "code",
   "execution_count": 2,
   "metadata": {},
   "outputs": [],
   "source": [
    "# Define request url headers\n",
    "headers = {\n",
    "\t\"User-Agent\": \"Mozilla/5.0 (Macintosh; Intel Mac OS X 10.16; rv:85.0) Gecko/20100101 Firefox/85.0\",\n",
    "\t\"Accept-Language\": \"en-GB, en-US, q=0.9, en\"\n",
    "}\n",
    "\n",
    "# Define sleep timer value between requests\n",
    "SLEEP_BETWEEN_REQUEST = 0.5"
   ]
  },
  {
   "cell_type": "markdown",
   "metadata": {},
   "source": [
    "The next thing is to define the range of board game IDs that need to be fetched from BGG and processed. At the time of creating this script, the upper range limit for which there is an existing board game data is approximately 402000 ids and this number is most likely to increase in the future."
   ]
  },
  {
   "cell_type": "code",
   "execution_count": 3,
   "metadata": {},
   "outputs": [],
   "source": [
    "# Define game ids range\n",
    "game_id = 264882 # initial game id\n",
    "last_game_id = 264983 # max game id (currently, it's around 402000)"
   ]
  },
  {
   "cell_type": "markdown",
   "metadata": {},
   "source": [
    "The following is a function that will be called when the script is completed based on the range of IDs. Also, if there is an error when making a request, this function will be called in order to store all the data appended to the `games` list up to the point when the exeption happened."
   ]
  },
  {
   "cell_type": "code",
   "execution_count": 4,
   "metadata": {},
   "outputs": [],
   "source": [
    "# CSV file saving function\n",
    "def save_to_csv(games):\n",
    "    csv_header = [\n",
    "        'name', 'game_id', 'rating', 'weight', 'year_published', 'min_players', 'max_players',\n",
    "        'min_play_time', 'max_play_time', 'min_age', 'owned_by', 'categories',\n",
    "        'mechanics', 'designers', 'artists', 'publishers'\n",
    "    ]\n",
    "    with open('BGGdata.csv', 'a', encoding='UTF8') as f:\n",
    "        dictwriter_object = DictWriter(f, fieldnames=csv_header)\n",
    "        if f.tell() == 0:\n",
    "            dictwriter_object.writeheader()\n",
    "        dictwriter_object.writerows(games)"
   ]
  },
  {
   "cell_type": "markdown",
   "metadata": {},
   "source": [
    "The in the following part is the main logic of this script. It will execute the code while in the IDs range, which means it will make requests to the BGG API, get all of the data by using BeautifulSoup, make the necessary checks if the data is related to board games (there is data that is related to other categories. Refer to ![BGG API](https://boardgamegeek.com/wiki/page/BGG_XML_API2) for more information.), after that it will process and append the data to the `games` list and finally store to the CSV file."
   ]
  },
  {
   "cell_type": "code",
   "execution_count": null,
   "metadata": {},
   "outputs": [],
   "source": [
    "# Create an empty 'games' list where each game will be appended\n",
    "games = []\n",
    "\n",
    "while game_id <= last_game_id:\n",
    "    url = \"https://boardgamegeek.com/xmlapi2/thing?id=\" + str(game_id) + \"&stats=1\"\n",
    "    \n",
    "    try:\n",
    "        response = requests.get(url, headers=headers)\n",
    "    except Exception as err:\n",
    "        # In case of exception, store to CSV the fetched items up to this point.\n",
    "        save_to_csv(games)\n",
    "        print(\">>> ERROR:\")\n",
    "        print(err)\n",
    "    \n",
    "   \n",
    "    soup = BeautifulSoup(response.text, features=\"html.parser\")\n",
    "    item = soup.find(\"item\")\n",
    "    \n",
    "    # Check if the request returns an item. If not, break the while loop\n",
    "    if item:\n",
    "        # If the item is not a board game - skip\n",
    "        if not item['type'] == 'boardgame':\n",
    "            game_id += 1\n",
    "            continue\n",
    "        \n",
    "        # Set values for each field in the item\n",
    "        name = item.find(\"name\")['value']\n",
    "        year_published = item.find(\"yearpublished\")['value']\n",
    "        min_players = item.find(\"minplayers\")['value']\n",
    "        max_players = item.find(\"maxplayers\")['value']\n",
    "        min_play_time = item.find(\"minplaytime\")['value']\n",
    "        max_play_time = item.find(\"maxplaytime\")['value']\n",
    "        min_age = item.find(\"minage\")['value']\n",
    "        rating = item.find(\"average\")['value']\n",
    "        weight = item.find(\"averageweight\")['value']\n",
    "        owned = item.find(\"owned\")['value']\n",
    "        categories = []\n",
    "        mechanics = []\n",
    "        designers = []\n",
    "        artists = []\n",
    "        publishers = []\n",
    "        \n",
    "        links = item.find_all(\"link\")\n",
    "        \n",
    "        for link in links:\n",
    "            if link['type'] == \"boardgamecategory\":\n",
    "                categories.append(link['value'])\n",
    "            if link['type'] == \"boardgamemechanic\":\n",
    "                mechanics.append(link['value'])\n",
    "            if link['type'] == \"boardgamedesigner\":\n",
    "                designers.append(link['value'])\n",
    "            if link['type'] == \"boardgameartist\":\n",
    "                artists.append(link['value'])\n",
    "            if link['type'] == \"boardgamepublisher\":\n",
    "                publishers.append(link['value'])\n",
    "                \n",
    "        game = {\n",
    "            \"name\": name,\n",
    "            \"game_id\": game_id,\n",
    "            \"rating\": rating,\n",
    "            \"weight\": weight,\n",
    "            \"year_published\": year_published,\n",
    "            \"min_players\": min_players,\n",
    "            \"max_players\": max_players,\n",
    "            \"min_play_time\": min_play_time,\n",
    "            \"max_play_time\": max_play_time,\n",
    "            \"min_age\": min_age,\n",
    "            \"owned_by\": owned,\n",
    "            \"categories\": ', '.join(categories),\n",
    "            \"mechanics\": ', '.join(mechanics),\n",
    "            \"designers\": ', '.join(designers),\n",
    "            \"artists\": ', '.join(artists),\n",
    "            \"publishers\": ', '.join(publishers),\n",
    "        }\n",
    "        \n",
    "        # Append the game (item) to the 'games' list\n",
    "        \n",
    "        games.append(game)\n",
    "                   \n",
    "    else:\n",
    "        # If there is no data for the request - skip to the next one\n",
    "        print(f\">>> Empty item. Skipped item with id ({game_id}).\")\n",
    "        game_id += 1\n",
    "        continue\n",
    "    \n",
    "    # Increment game id and set sleep timer between requests\n",
    "    game_id += 1\n",
    "    time.sleep(SLEEP_BETWEEN_REQUEST)\n",
    "    \n",
    "save_to_csv(games)    "
   ]
  },
  {
   "cell_type": "markdown",
   "metadata": {},
   "source": [
    "Below you can preview the first few rows of records in the CSV file as pandas DataFrame."
   ]
  },
  {
   "cell_type": "code",
   "execution_count": null,
   "metadata": {},
   "outputs": [],
   "source": [
    "# Preview the CSV as pandas DataFrame\n",
    "df = pd.read_csv('./BGGdata.csv')\n",
    "print(df.head(5))"
   ]
  }
 ],
 "metadata": {
  "kernelspec": {
   "display_name": "Python 3",
   "language": "python",
   "name": "python3"
  },
  "language_info": {
   "codemirror_mode": {
    "name": "ipython",
    "version": 3
   },
   "file_extension": ".py",
   "mimetype": "text/x-python",
   "name": "python",
   "nbconvert_exporter": "python",
   "pygments_lexer": "ipython3",
   "version": "3.9.0"
  },
  "orig_nbformat": 4
 },
 "nbformat": 4,
 "nbformat_minor": 2
}
